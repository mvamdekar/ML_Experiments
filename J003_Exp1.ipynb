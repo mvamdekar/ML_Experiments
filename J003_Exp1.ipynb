{
 "cells": [
  {
   "cell_type": "markdown",
   "metadata": {},
   "source": [
    "# Experiment 1 - Python exercises from Hackerrank"
   ]
  },
  {
   "cell_type": "markdown",
   "metadata": {},
   "source": [
    "Name: Manasi Amdekar \n",
    "Roll No.: J003 \n",
    "Class: B.Tech. Data Science \n",
    "Year: 3rd"
   ]
  },
  {
   "cell_type": "markdown",
   "metadata": {},
   "source": [
    "# Day 0\n",
    "Task:\n",
    "To complete this challenge, you must save a line of input from stdin to a variable, print Hello, World. on a single line, and finally print the value of your variable on a second line.\n",
    "\n",
    "Sample Input:\n",
    "\"Welcome to 30 Days of Code!\""
   ]
  },
  {
   "cell_type": "code",
   "execution_count": 2,
   "metadata": {},
   "outputs": [
    {
     "name": "stdout",
     "output_type": "stream",
     "text": [
      "Hello,World.\n",
      "Welcome to 30 Days of Code!\n"
     ]
    }
   ],
   "source": [
    "inputString = \"Welcome to 30 Days of Code!\"\n",
    "print(\"Hello,World.\")\n",
    "print(inputString)"
   ]
  },
  {
   "cell_type": "markdown",
   "metadata": {},
   "source": [
    "# Day 1\n",
    "Task:\n",
    "\n",
    "Complete the code in the editor below. The variables , , and  are already declared and initialized for you. You must:\n",
    "\n",
    "Declare  variables: one of type int, one of type double, and one of type String.\n",
    "\n",
    "Read  lines of input from stdin (according to the sequence given in the Input Format section below) and initialize your  variables.\n",
    "\n",
    "Use the  operator to perform the following operations:\n",
    "\n",
    "Print the sum of  plus your int variable on a new line.\n",
    "\n",
    "Print the sum of  plus your double variable to a scale of one decimal place on a new line.\n",
    "\n",
    "Concatenate  with the string you read as input and print the result on a new line.\n",
    "\n",
    "Note: If you are using a language that doesn't support using  for string concatenation (e.g.: C), you can just print one variable immediately following the other on the same line. The string provided in your editor must be printed first, immediately followed by the string you read as input.\n",
    "\n",
    "Sample Input:\n",
    "12\n",
    "4.0\n",
    "\"is the best place to learn and practice coding!\""
   ]
  },
  {
   "cell_type": "code",
   "execution_count": 6,
   "metadata": {},
   "outputs": [
    {
     "name": "stdout",
     "output_type": "stream",
     "text": [
      "Enter ineger:2\n",
      "Enter float:4.0\n",
      "Enter string:HackerRank\n",
      "14\n",
      "8.0\n",
      "HackerRank is the best place to learn and practice coding!\n"
     ]
    }
   ],
   "source": [
    "i = 12\n",
    "d = 4.0\n",
    "s = \"is the best place to learn and practice coding!\"\n",
    "a = int(input(\"Enter ineger:\"))\n",
    "b = float(input(\"Enter float:\"))\n",
    "c = input(\"Enter string:\")\n",
    "\n",
    "print(i+a)\n",
    "print(d+b)\n",
    "print(c+\" \"+s)"
   ]
  },
  {
   "cell_type": "markdown",
   "metadata": {},
   "source": [
    "# Day 2\n",
    "Task:\n",
    "\n",
    "Given the meal price (base cost of a meal), tip percent (the percentage of the meal price being added as tip), and tax percent (the percentage of the meal price being added as tax) for a meal, find and print the meal's total cost. Round the result to the nearest integer.\n",
    "\n",
    "Sample Input:\n",
    "\n",
    "12.00 \n",
    "\n",
    "20 \n",
    "\n",
    "8"
   ]
  },
  {
   "cell_type": "code",
   "execution_count": 15,
   "metadata": {},
   "outputs": [
    {
     "name": "stdout",
     "output_type": "stream",
     "text": [
      "Enter basic meal cost:12\n",
      "Enter tip percent(in %):20\n",
      "Enter tax percent(in %):8\n",
      "The total cost of the meal is: 15.0\n"
     ]
    }
   ],
   "source": [
    "meal_cost = float(input(\"Enter basic meal cost:\"))\n",
    "tip_percent = int(input(\"Enter tip percent(in %):\"))\n",
    "tax_percent = int(input(\"Enter tax percent(in %):\"))\n",
    "\n",
    "total_cost = meal_cost + ((tip_percent/100)*meal_cost) + ((tax_percent/100)*meal_cost)\n",
    "print(\"The total cost of the meal is:\",round(total_cost,0))"
   ]
  },
  {
   "cell_type": "markdown",
   "metadata": {},
   "source": [
    "# Day 3\n",
    "Task:\n",
    "\n",
    "Given an integer, , perform the following conditional actions:\n",
    "\n",
    "If  is odd, print Weird\n",
    "\n",
    "If  is even and in the inclusive range of  2 to 5, print Not Weird\n",
    "\n",
    "If  is even and in the inclusive range of  6 to 20, print Weird\n",
    "\n",
    "If  is even and greater than 20, print Not Weird\n",
    "\n",
    "Complete the stub code provided in your editor to print whether or not  is weird.\n",
    "\n",
    "Sample Input:\n",
    "\n",
    "3\n",
    "\n",
    "24"
   ]
  },
  {
   "cell_type": "code",
   "execution_count": 1,
   "metadata": {},
   "outputs": [
    {
     "name": "stdout",
     "output_type": "stream",
     "text": [
      "Enter integer:3\n",
      "Weird\n"
     ]
    }
   ],
   "source": [
    "n = int(input(\"Enter integer:\"))\n",
    "if n%2 == 1:\n",
    "    print(\"Weird\")\n",
    "else:\n",
    "    if 2<= n <= 5:\n",
    "        print(\"Not Weird\")\n",
    "    elif 6 <= n <= 20:\n",
    "        print(\"Weird\")\n",
    "    elif n > 20:\n",
    "        print(\"Not Weird\")\n",
    "    "
   ]
  },
  {
   "cell_type": "markdown",
   "metadata": {},
   "source": [
    "# Day 4\n",
    "Task:\n",
    "\n",
    "Write a Person class with an instance variable,age, and a constructor that takes an integer,initialAge, as a parameter. The constructor must assign initialAge to age after confirming the argument passed as initialAge is not negative; if a negative argument is passed as initialAge, the constructor should set age to 0 and print Age is not valid, setting age to 0.. In addition, you must write the following instance methods:\n",
    "\n",
    "1.yearPasses() should increase the age instance variable by 1.\n",
    "\n",
    "2.amIOld() should perform the following conditional actions:\n",
    "\n",
    "a) If age < 13, print You are young..\n",
    "\n",
    "b) If age >= 13 and age < 18, print You are a teenager..\n",
    "\n",
    "c) Otherwise, print You are old..\n",
    "\n",
    "Sample Input:\n",
    "\n",
    "4\n",
    "\n",
    "-1\n",
    "\n",
    "10\n",
    "\n",
    "16\n",
    "\n",
    "18"
   ]
  },
  {
   "cell_type": "code",
   "execution_count": 6,
   "metadata": {},
   "outputs": [],
   "source": [
    "class Person:\n",
    "    def __init__(self,initialAge):\n",
    "        if initialAge > 0:\n",
    "            self.age = initialAge\n",
    "        else:\n",
    "            print(\"Age not valid. Setting age to 0.\")\n",
    "            self.age = 0\n",
    "            \n",
    "    def yearPasses(self):\n",
    "        self.age += 1\n",
    "    \n",
    "    def amIOld(self):\n",
    "        if self.age < 13:\n",
    "            print(\"You are young.\")\n",
    "        if 13 <= self.age < 18:\n",
    "            print(\"You are a teenager.\")\n",
    "        if self.age >= 18:\n",
    "            print(\"You are old.\")"
   ]
  },
  {
   "cell_type": "code",
   "execution_count": 11,
   "metadata": {},
   "outputs": [
    {
     "name": "stdout",
     "output_type": "stream",
     "text": [
      "Enter your age:18\n",
      "You are old.\n"
     ]
    }
   ],
   "source": [
    "age = int(input(\"Enter your age:\"))\n",
    "p = Person(age)\n",
    "p.amIOld()"
   ]
  },
  {
   "cell_type": "markdown",
   "metadata": {},
   "source": [
    "# Day 5\n",
    "Task:\n",
    "\n",
    "Given an integer,n, print its first 10 multiples. Each multiple n*i (where 1 <= i <= 10) should be printed on a new line in the form: n x i = result.\n",
    "\n",
    "Sample Input:\n",
    "\n",
    "n = 3"
   ]
  },
  {
   "cell_type": "code",
   "execution_count": 14,
   "metadata": {},
   "outputs": [
    {
     "name": "stdout",
     "output_type": "stream",
     "text": [
      "Enter integer:3\n",
      "3 * 1 = 3\n",
      "\n",
      "3 * 2 = 6\n",
      "\n",
      "3 * 3 = 9\n",
      "\n",
      "3 * 4 = 12\n",
      "\n",
      "3 * 5 = 15\n",
      "\n",
      "3 * 6 = 18\n",
      "\n",
      "3 * 7 = 21\n",
      "\n",
      "3 * 8 = 24\n",
      "\n",
      "3 * 9 = 27\n",
      "\n",
      "3 * 10 = 30\n",
      "\n"
     ]
    }
   ],
   "source": [
    "n = int(input(\"Enter integer:\"))\n",
    "for i in range(1,11):\n",
    "    print(str(n) + \" \" + \"*\" + \" \" + str(i) + \" \" + \"=\" + \" \" + str(n*i)+ \"\\n\")"
   ]
  },
  {
   "cell_type": "markdown",
   "metadata": {},
   "source": [
    "# Day 6\n",
    "Task:\n",
    "\n",
    "Given a string,S, of length N that is indexed from 0 to N-1, print its even-indexed and odd-indexed characters as 2 space-separated strings on a single line (see the Sample below for more detail).\n",
    "\n",
    "Note: 0 is considered to be an even index.\n",
    "\n",
    "Sample Input:\n",
    "\n",
    "2\n",
    "\n",
    "Hacker\n",
    "\n",
    "Rank"
   ]
  },
  {
   "cell_type": "code",
   "execution_count": 25,
   "metadata": {},
   "outputs": [
    {
     "name": "stdout",
     "output_type": "stream",
     "text": [
      "Enter string:Rank\n",
      "Rn ak\n"
     ]
    }
   ],
   "source": [
    "S = input(\"Enter string:\")\n",
    "N = len(S)\n",
    "even = \"\"\n",
    "odd = \" \"\n",
    "if N<2:\n",
    "    print(\"Error! Enter a longer string!\")\n",
    "else:\n",
    "    for i in range(0,N):\n",
    "        if i%2 == 0:\n",
    "            even += S[i]\n",
    "        else:\n",
    "            odd += S[i]\n",
    "    print(even + odd)"
   ]
  },
  {
   "cell_type": "markdown",
   "metadata": {},
   "source": [
    "# Day 7\n",
    "Task:\n",
    "\n",
    "Given an array,A, of N integers, print A's elements in reverse order as a single line of space-separated numbers.\n",
    "\n",
    "Sample Input:\n",
    "\n",
    "4\n",
    "\n",
    "1 4 3 2"
   ]
  },
  {
   "cell_type": "code",
   "execution_count": 31,
   "metadata": {},
   "outputs": [
    {
     "name": "stdout",
     "output_type": "stream",
     "text": [
      "Enter numbers:1234\n",
      "4 3 2 1 \n"
     ]
    }
   ],
   "source": [
    "A = list(input(\"Enter numbers:\"))\n",
    "arr = \"\"\n",
    "if  len(A) <= 1:\n",
    "    print(\"Error!Enter more numbers!\")\n",
    "else:\n",
    "    for i in range(len(A)-1,-1,-1):\n",
    "        arr += A[i] + \" \"\n",
    "    print(arr)"
   ]
  },
  {
   "cell_type": "markdown",
   "metadata": {},
   "source": [
    "# Day 8\n",
    "Task:\n",
    "\n",
    "Given n names and phone numbers, assemble a phone book that maps friends' names to their respective phone numbers. You will then be given an unknown number of names to query your phone book for. For each name queried, print the associated entry from your phone book on a new line in the form name=phoneNumber; if an entry for name is not found, print Not found instead.\n",
    "\n",
    "Sample Input:\n",
    "\n",
    "3\n",
    "\n",
    "sam 99912222\n",
    "\n",
    "tom 11122222\n",
    "\n",
    "harry 12299933\n",
    "\n",
    "sam\n",
    "\n",
    "edward\n",
    "\n",
    "harry"
   ]
  },
  {
   "cell_type": "code",
   "execution_count": 7,
   "metadata": {},
   "outputs": [
    {
     "name": "stdout",
     "output_type": "stream",
     "text": [
      "Enter number of phone numbers: 3\n",
      "Enter number: sam 99912222\n",
      "Enter number: tom 11122222\n",
      "Enter number: harry 12299933\n",
      "Enter query: sam\n",
      "sam=99912222\n",
      "Enter query: edward\n",
      "Not found\n",
      "Enter query: harry\n",
      "harry=12299933\n",
      "Enter query: Done\n"
     ]
    }
   ],
   "source": [
    "import sys\n",
    "inputList=[]\n",
    "\n",
    "num = int(input(\"Enter number of phone numbers: \"))\n",
    "for i in range(num):\n",
    "    inputList.append(input(\"Enter number: \"))\n",
    "\n",
    "entries = inputList\n",
    "\n",
    "phoneBook = {}\n",
    "\n",
    "for entry in entries:\n",
    "    name, p_number = entry.split()\n",
    "    phoneBook[name] = p_number\n",
    "    \n",
    "while True:\n",
    "    query = input(\"Enter query: \")\n",
    "    if query.lower() == \"done\":\n",
    "        break\n",
    "    else:\n",
    "        stripQuery = query.rstrip() #Eliminates the newline character\n",
    "        if stripQuery in phoneBook:\n",
    "            print(stripQuery + \"=\" + str(phoneBook[stripQuery]))\n",
    "        else:\n",
    "            print(\"Not found\")"
   ]
  },
  {
   "cell_type": "markdown",
   "metadata": {},
   "source": [
    "# Day 9\n",
    "Task:\n",
    "\n",
    "Complete the factorial function in the editor below. Be sure to use recursion.\n",
    "\n",
    "Sample Input:\n",
    "\n",
    "3"
   ]
  },
  {
   "cell_type": "code",
   "execution_count": 2,
   "metadata": {},
   "outputs": [
    {
     "name": "stdout",
     "output_type": "stream",
     "text": [
      "Enter input:3\n"
     ]
    },
    {
     "data": {
      "text/plain": [
       "6"
      ]
     },
     "execution_count": 2,
     "metadata": {},
     "output_type": "execute_result"
    }
   ],
   "source": [
    "def factorial(n):\n",
    "    if n==1:\n",
    "        return 1\n",
    "    else:\n",
    "        return n*factorial(n-1)\n",
    "\n",
    "n = int(input(\"Enter input:\"))\n",
    "factorial(n)"
   ]
  },
  {
   "cell_type": "markdown",
   "metadata": {},
   "source": [
    "# Day 10\n",
    "Task:\n",
    "\n",
    "Given a base- integer,10,n convert it to binary (base-2). Then find and print the base-10 integer denoting the maximum number of consecutive 1's in n's binary representation. When working with different bases, it is common to show the base as a subscript."
   ]
  },
  {
   "cell_type": "code",
   "execution_count": 2,
   "metadata": {},
   "outputs": [
    {
     "name": "stdout",
     "output_type": "stream",
     "text": [
      "13\n",
      "2\n"
     ]
    }
   ],
   "source": [
    "import sys\n",
    "\n",
    "def max(a,b):\n",
    "    return a if a>b else b\n",
    "\n",
    "n = int(input().strip())\n",
    "\n",
    "max_num = 0\n",
    "count = 0\n",
    "\n",
    "while n:\n",
    "    while n&1:\n",
    "        count += 1\n",
    "        n>>=1\n",
    "    max_num = max(count, max_num)\n",
    "    if not n&1:\n",
    "        count = 0\n",
    "        n>>=1\n",
    "\n",
    "print(max_num)"
   ]
  },
  {
   "cell_type": "markdown",
   "metadata": {},
   "source": [
    "# Day 11\n",
    "Task:\n",
    "\n",
    "Calculate the hourglass sum for every hourglass in A, then print the maximum hourglass sum.\n",
    "\n",
    "Sample Input:\n",
    "\n",
    "1 1 1 0 0 0\n",
    "\n",
    "0 1 0 0 0 0\n",
    "\n",
    "1 1 1 0 0 0\n",
    "\n",
    "0 0 2 4 4 0\n",
    "\n",
    "0 0 0 2 0 0\n",
    "\n",
    "0 0 1 2 4 0"
   ]
  },
  {
   "cell_type": "code",
   "execution_count": 9,
   "metadata": {},
   "outputs": [
    {
     "name": "stdout",
     "output_type": "stream",
     "text": [
      "1 1 1 0 0 0\n",
      "0 1 0 0 0 0\n",
      "1 1 1 0 0 0\n",
      "0 0 2 4 4 0\n",
      "0 0 0 2 0 0\n",
      "0 0 1 2 4 0\n",
      "19\n"
     ]
    }
   ],
   "source": [
    "#!/bin/python\n",
    "\n",
    "import sys\n",
    "\n",
    "\n",
    "arr = []\n",
    "for arr_i in range(6):\n",
    "   arr_temp = list(map(int,input().strip().split(' ')))\n",
    "   arr.append(arr_temp)\n",
    "max = 0\n",
    "\n",
    "for i in range(0,4):\n",
    "    for j in range(0,4):\n",
    "        sum = 0\n",
    "        sum= arr[i][j]+arr[i][j+1]+arr[i][j+2]+arr[i+1][j+1]+arr[i+2][j]+arr[i+2][j+1]+arr[i+2][j+2]\n",
    "        if i==0 and j==0:\n",
    "            max = sum\n",
    "        if sum > max:\n",
    "            max =sum\n",
    "\n",
    "print(max)"
   ]
  },
  {
   "cell_type": "markdown",
   "metadata": {},
   "source": [
    "# Day 12\n",
    "Task:\n",
    "\n",
    "You are given two classes, Person and Student, where Person is the base class and Student is the derived class. Completed code for Person and a declaration for Student are provided for you in the editor. Observe that Student inherits all the properties of Person.\n",
    "\n",
    "Complete the Student class by writing the following:\n",
    "\n",
    "A Student class constructor, which has  parameters:\n",
    "\n",
    "A string, firstName.\n",
    "\n",
    "A string, lastName.\n",
    "\n",
    "An integer, idNumbers.\n",
    "\n",
    "An integer array (or vector) of test scores, scores.\n",
    "\n",
    "A char calculate() method that calculates a Student object's average and returns the grade character representative of their calculated average:\n",
    "\n",
    "Sample Input:\n",
    "\n",
    "Heraldo Memelli 8135627\n",
    "\n",
    "2\n",
    "\n",
    "100 80"
   ]
  },
  {
   "cell_type": "code",
   "execution_count": 6,
   "metadata": {},
   "outputs": [],
   "source": [
    "class Person:\n",
    "    def __init__(self, firstName, lastName, idNumber):\n",
    "        self.firstName = firstName\n",
    "        self.lastName = lastName\n",
    "        self.idNumber = idNumber\n",
    "    def printPerson(self):\n",
    "        print(\"Name:\", self.lastName + \",\", self.firstName)\n",
    "        print(\"ID:\", self.idNumber)\n",
    "        \n",
    "class Student(Person):\n",
    "    def __init__(self,fName,lName,sId,scores):\n",
    "        super().__init__(fName,lName,sId)\n",
    "        self.scores = scores\n",
    "        \n",
    "    def calculate(self):\n",
    "        avg = 0.0\n",
    "        for score in self.scores:\n",
    "            avg += score\n",
    "        \n",
    "        finalAvg = avg/len(self.scores)\n",
    "        if finalAvg < 40 :\n",
    "            return \"T\"\n",
    "        elif 40<= finalAvg < 50:\n",
    "            return \"D\"\n",
    "        elif 50<= finalAvg < 70:\n",
    "            return \"P\"\n",
    "        elif 70<= finalAvg < 80:\n",
    "            return \"A\"\n",
    "        elif 80<= finalAvg < 90:\n",
    "            return \"E\"\n",
    "        elif 90<= finalAvg <= 100:\n",
    "            return \"O\"\n",
    "        else:\n",
    "            return \"Your test scores are invalid!\""
   ]
  },
  {
   "cell_type": "code",
   "execution_count": 7,
   "metadata": {},
   "outputs": [
    {
     "name": "stdout",
     "output_type": "stream",
     "text": [
      "Heraldo Memelli 8135627\n",
      "2\n",
      "100 80\n",
      "Name: Memelli, Heraldo\n",
      "ID: 8135627\n",
      "Grade: O\n"
     ]
    }
   ],
   "source": [
    "line = input().split()\n",
    "firstName = line[0]\n",
    "lastName = line[1]\n",
    "idNum = line[2]\n",
    "numScores = int(input()) # not needed for Python\n",
    "scores = list( map(int, input().split()) )\n",
    "s = Student(firstName, lastName, idNum, scores)\n",
    "s.printPerson()\n",
    "print(\"Grade:\", s.calculate())"
   ]
  },
  {
   "cell_type": "code",
   "execution_count": 15,
   "metadata": {},
   "outputs": [
    {
     "name": "stdout",
     "output_type": "stream",
     "text": [
      "Name: Memelli, Heraldo\n",
      "ID: 8135627\n",
      "Grade: O\n"
     ]
    }
   ],
   "source": [
    "student1.printPerson()\n",
    "student1.calculate()"
   ]
  },
  {
   "cell_type": "markdown",
   "metadata": {},
   "source": [
    "# Day 13\n",
    "Task:\n",
    "\n",
    "Given a Book class and a Solution class, write a MyBook class that does the following:\n",
    "\n",
    "Inherits from Book\n",
    "Has a parameterized constructor taking these 3 parameters:\n",
    "\n",
    "string title\n",
    "\n",
    "string author\n",
    "\n",
    "int prince\n",
    "\n",
    "Implements the Book class' abstract display() method so it prints these 3 lines:\n",
    "\n",
    "title, a space, and then the current instance's title.\n",
    "\n",
    "author, a space, and then the current instance's author.\n",
    "\n",
    "price, a space, and then the current instance's price.\n",
    "\n",
    "Note: Because these classes are being written in the same file, you must not use an access modifier (e.g.: public) when declaring MyBook or your code will not execute.\n",
    "\n",
    "Sample Input:\n",
    "\n",
    "The Alchemist\n",
    "\n",
    "Paulo Coelho\n",
    "\n",
    "248"
   ]
  },
  {
   "cell_type": "code",
   "execution_count": 26,
   "metadata": {},
   "outputs": [],
   "source": [
    "class Book:\n",
    "    def __init__(self,title,author):\n",
    "        self.title=title\n",
    "        self.author=author\n",
    "class MyBook(Book):\n",
    "    def __init__(self,title,author,price):\n",
    "        super().__init__(title,author)\n",
    "        self.price = price\n",
    "    def display(self):\n",
    "        print(\"Title: \", self.title,\"\\n\")\n",
    "        print(\"Author: \", self.author,\"\\n\")\n",
    "        print(\"Price: \",self.price)"
   ]
  },
  {
   "cell_type": "code",
   "execution_count": 27,
   "metadata": {},
   "outputs": [
    {
     "name": "stdout",
     "output_type": "stream",
     "text": [
      "Enter title:The Alchemist\n",
      "Enter author:Paulo Coelho\n",
      "Enter price:248\n",
      "Title:  The Alchemist \n",
      "\n",
      "Author:  Paulo Coelho \n",
      "\n",
      "Price:  248\n"
     ]
    }
   ],
   "source": [
    "title=input(\"Enter title:\")\n",
    "author=input(\"Enter author:\")\n",
    "price=int(input(\"Enter price:\"))\n",
    "new_novel=MyBook(title,author,price)\n",
    "new_novel.display()"
   ]
  },
  {
   "cell_type": "markdown",
   "metadata": {},
   "source": [
    "# Day 14\n",
    "Task:\n",
    "\n",
    "Complete the Difference class by writing the following:\n",
    "\n",
    "A class constructor that takes an array of integers as a parameter and saves it to the \"__elements\" instance variable.\n",
    "A computeDifference method that finds the maximum absolute difference between any 2 numbers in \"__elements\" and stores it in the maximumDistance instance variable.\n",
    "\n",
    "Sample Input:\n",
    "\n",
    "STDIN   Function\n",
    "-----   --------\n",
    "\n",
    "3       __elements[] size N = 3\n",
    "\n",
    "1 2 5   __elements = [1, 2, 5]\n"
   ]
  },
  {
   "cell_type": "code",
   "execution_count": 9,
   "metadata": {},
   "outputs": [
    {
     "name": "stdout",
     "output_type": "stream",
     "text": [
      "3\n",
      "1 2 5\n"
     ]
    },
    {
     "data": {
      "text/plain": [
       "4"
      ]
     },
     "execution_count": 9,
     "metadata": {},
     "output_type": "execute_result"
    }
   ],
   "source": [
    "class Difference:\n",
    "    def __init__(self, a):\n",
    "        self.__elements = a\n",
    "        self.maxDifference = 0\n",
    "\n",
    "    def computeDifference(self):\n",
    "        self.maxDifference = max(self.__elements) - min(self.__elements)\n",
    "        return self.maxDifference\n",
    "\n",
    "_ = input()\n",
    "a = [int(e) for e in input().split(' ')]\n",
    "\n",
    "d = Difference(a)\n",
    "d.computeDifference()"
   ]
  },
  {
   "cell_type": "markdown",
   "metadata": {},
   "source": [
    "# Day 15\n",
    "Task:\n",
    "\n",
    "Complete the insert function in your editor so that it creates a new Node (pass data as the Node constructor argument) and inserts it at the tail of the linked list referenced by the head parameter. Once the new node is added, return the reference to the head node.\n",
    "\n",
    "Sample Input:\n",
    "\n",
    "STDIN   Function\n",
    "-----   --------\n",
    "\n",
    "4       T = 4\n",
    "\n",
    "2       first data = 2\n",
    "\n",
    "3\n",
    "\n",
    "4\n",
    "\n",
    "1       fourth data = 1"
   ]
  },
  {
   "cell_type": "code",
   "execution_count": 3,
   "metadata": {},
   "outputs": [
    {
     "name": "stdout",
     "output_type": "stream",
     "text": [
      "4\n",
      "2\n",
      "3\n",
      "4\n",
      "1\n",
      "2 3 4 1 "
     ]
    }
   ],
   "source": [
    "class Node:\n",
    "    def __init__(self,data):\n",
    "        self.data = data\n",
    "        self.next = None \n",
    "class Solution: \n",
    "    def display(self,head):\n",
    "        current = head\n",
    "        while current:\n",
    "            print(current.data,end=' ')\n",
    "            current = current.next\n",
    "\n",
    "    def insert(self,head,data): \n",
    "        if head is None:\n",
    "            head = Node(data)\n",
    "        elif head.next is None:\n",
    "            head.next = Node(data)\n",
    "        else: \n",
    "            self.insert(head.next, data)\n",
    "        return head\n",
    "\n",
    "mylist= Solution()\n",
    "T=int(input())\n",
    "head=None\n",
    "for i in range(T):\n",
    "    data=int(input())\n",
    "    head=mylist.insert(head,data)    \n",
    "mylist.display(head);"
   ]
  },
  {
   "cell_type": "markdown",
   "metadata": {},
   "source": [
    "# Day 16\n",
    "Task:\n",
    "\n",
    "Read a string, S, and print its integer value; if S cannot be converted to an integer, print Bad String.\n",
    "\n",
    "Note: You must use the String-to-Integer and exception handling constructs built into your submission language. If you attempt to use loops/conditional statements, you will get a  score.\n",
    "\n",
    "Sample Input:\n",
    "\n",
    "3\n",
    "\n",
    "za"
   ]
  },
  {
   "cell_type": "code",
   "execution_count": 16,
   "metadata": {},
   "outputs": [],
   "source": [
    "def intOrNot(S):\n",
    "    try:\n",
    "        x = int(S)\n",
    "        print(x)\n",
    "    except ValueError:\n",
    "        print(\"Bad String!\")"
   ]
  },
  {
   "cell_type": "code",
   "execution_count": 17,
   "metadata": {},
   "outputs": [
    {
     "name": "stdout",
     "output_type": "stream",
     "text": [
      "Enter: 3\n",
      "3\n",
      "Enter: za\n",
      "Bad String!\n"
     ]
    }
   ],
   "source": [
    "intOrNot(input(\"Enter: \"))\n",
    "intOrNot(input(\"Enter: \"))"
   ]
  },
  {
   "cell_type": "markdown",
   "metadata": {},
   "source": [
    "# Day 17\n",
    "Task:\n",
    "\n",
    "Write a Calculator class with a single method: int power(int,int). The power method takes two integers, n and p, as parameters and returns the integer result of n^p. If either n or p is negative, then the method must throw an exception with the message: n and p should be non-negative.\n",
    "\n",
    "Note: Do not use an access modifier (e.g.: public) in the declaration for your Calculator class.\n",
    "\n",
    "Sample Input:\n",
    "\n",
    "4\n",
    "\n",
    "3 5\n",
    "\n",
    "2 4\n",
    "\n",
    "-1 -2\n",
    "\n",
    "-1 3"
   ]
  },
  {
   "cell_type": "code",
   "execution_count": 1,
   "metadata": {},
   "outputs": [],
   "source": [
    "class Calculator(Exception):\n",
    "    def power(self,n,p):\n",
    "        if (n<0 or p<0):\n",
    "            raise Calculator(\"n and p should be non-negative\")\n",
    "        else:\n",
    "            return pow(n,p)"
   ]
  },
  {
   "cell_type": "code",
   "execution_count": 2,
   "metadata": {},
   "outputs": [
    {
     "name": "stdout",
     "output_type": "stream",
     "text": [
      "4\n",
      "3 5\n",
      "243\n",
      "2 4\n",
      "16\n",
      "-1 -2\n",
      "n and p should be non-negative\n",
      "-1 3\n",
      "n and p should be non-negative\n"
     ]
    }
   ],
   "source": [
    "myCalculator=Calculator()\n",
    "T=int(input())\n",
    "for i in range(T):\n",
    "    n,p = map(int, input().split())\n",
    "    try:\n",
    "        ans=myCalculator.power(n,p)\n",
    "        print(ans)\n",
    "    except Exception as e:\n",
    "        print(e)   "
   ]
  },
  {
   "cell_type": "markdown",
   "metadata": {},
   "source": [
    "# Day 18\n",
    "Task:\n",
    "\n",
    "Write the following declarations and implementations:\n",
    "\n",
    "Two instance variables: one for your stack, and one for your queue.\n",
    "\n",
    "A void pushCharacter(char ch) method that pushes a character onto a stack.\n",
    "\n",
    "A void enqueueCharacter(char ch) method that enqueues a character in the queue instance variable.\n",
    "\n",
    "A char popCharacter() method that pops and returns the character at the top of the stack instance variable.\n",
    "\n",
    "A char dequeueCharacter() method that dequeues and returns the first character in the queue instance variable.\n",
    "\n",
    "Sample Input:\n",
    "\n",
    "racecar"
   ]
  },
  {
   "cell_type": "code",
   "execution_count": 1,
   "metadata": {},
   "outputs": [
    {
     "name": "stdout",
     "output_type": "stream",
     "text": [
      "racecar\n",
      "The word, racecar, is a palindrome.\n"
     ]
    }
   ],
   "source": [
    "s = input()\n",
    "q = s[::-1]\n",
    "if q == s:\n",
    "    print(f'The word, {s}, is a palindrome.')"
   ]
  },
  {
   "cell_type": "markdown",
   "metadata": {},
   "source": [
    "# Day 19\n",
    "Task:\n",
    "\n",
    "The AdvancedArithmetic interface and the method declaration for the abstract divisorSum(n) method are provided for you in the editor below.\n",
    "\n",
    "Complete the implementation of Calculator class, which implements the AdvancedArithmetic interface. The implementation for the divisorSum(n) method must return the sum of all divisors of n.\n",
    "\n",
    "Sample Input:\n",
    "\n",
    "6"
   ]
  },
  {
   "cell_type": "code",
   "execution_count": 2,
   "metadata": {},
   "outputs": [],
   "source": [
    "class AdvancedArithmetic(object):\n",
    "    def divisorSum(n):\n",
    "        raise NotImplementedError\n",
    "\n",
    "class Calculator(AdvancedArithmetic):\n",
    "    def divisorSum(self, n):\n",
    "        s = 0\n",
    "        for i in range(1,n+1):\n",
    "            if (n%i == 0):\n",
    "                s+=i\n",
    "        return s"
   ]
  },
  {
   "cell_type": "code",
   "execution_count": 3,
   "metadata": {},
   "outputs": [
    {
     "name": "stdout",
     "output_type": "stream",
     "text": [
      "6\n",
      "I implemented: AdvancedArithmetic\n",
      "12\n"
     ]
    }
   ],
   "source": [
    "n = int(input())\n",
    "my_calculator = Calculator()\n",
    "s = my_calculator.divisorSum(n)\n",
    "print(\"I implemented: \" + type(my_calculator).__bases__[0].__name__)\n",
    "print(s)"
   ]
  },
  {
   "cell_type": "markdown",
   "metadata": {},
   "source": [
    "# Day 20\n",
    "Task:\n",
    "\n",
    "Given an array, a, of size n distinct elements, sort the array in ascending order using the Bubble Sort algorithm above. Once sorted, print the following 3 lines:\n",
    "\n",
    "Array is sorted in numSwaps swaps.\n",
    "\n",
    "where numSwaps is the number of swaps that took place.\n",
    "\n",
    "First Element: firstElement\n",
    "\n",
    "where firstElement is the first element in the sorted array.\n",
    "\n",
    "Last Element: lastElement\n",
    "\n",
    "where lastElement is the last element in the sorted array.\n",
    "\n",
    "Hint: To complete this challenge, you will need to add a variable that keeps a running tally of all swaps that occur during execution.\n",
    "\n",
    "Sample Input:\n",
    "\n",
    "3\n",
    "\n",
    "1 2 3"
   ]
  },
  {
   "cell_type": "code",
   "execution_count": 4,
   "metadata": {},
   "outputs": [
    {
     "name": "stdout",
     "output_type": "stream",
     "text": [
      "3\n",
      "1 2 3\n",
      "Array was sorted in 0 swaps.\n",
      "First Element: 1\n",
      "Last Element: 3\n"
     ]
    }
   ],
   "source": [
    "import math\n",
    "import os\n",
    "import random\n",
    "import re\n",
    "import sys\n",
    "\n",
    "def Bucket_sort(n,a):\n",
    "    #Track number of elements swapped during a single array traversal\n",
    "    numberOfSwaps = 0;\n",
    "    for i in range(0,n):\n",
    "        for j in range(0,n-1):\n",
    "            #Swap adjacent elements if they are in decreasing order\n",
    "            if (a[j] > a[j+1]):\n",
    "                a[j], a[j+1] = a[j+1],a[j];\n",
    "                numberOfSwaps += 1;\n",
    "                \n",
    "        #If no elements were swapped during a traversal, array is sorted\n",
    "        if (numberOfSwaps == 0):\n",
    "                break;\n",
    "            \n",
    "    firstElement = a[0]\n",
    "    lastElement = a[-1]\n",
    "    print(f'Array was sorted in {numberOfSwaps} swaps.')\n",
    "    print(f'First Element: {firstElement}\\nLast Element: {lastElement}')\n",
    "\n",
    "if __name__ == '__main__':\n",
    "    n = int(input().strip())\n",
    "\n",
    "    a = list(map(int, input().rstrip().split()))\n",
    "    \n",
    "    Bucket_sort(n,a)\n"
   ]
  },
  {
   "cell_type": "markdown",
   "metadata": {},
   "source": [
    "# Day 21\n",
    "Task:\n",
    "\n",
    "Write a single generic function named printArray; this function must take an array of generic elements as a parameter (the exception to this is C++, which takes a vector). The locked Solution class in your editor tests your function.\n",
    "\n",
    "Note: You must use generics to solve this challenge. Do not write overloaded functions.\n"
   ]
  },
  {
   "cell_type": "code",
   "execution_count": null,
   "metadata": {},
   "outputs": [],
   "source": []
  },
  {
   "cell_type": "markdown",
   "metadata": {},
   "source": [
    "# Day 22\n",
    "Task:\n",
    "\n",
    "The height of a binary search tree is the number of edges between the tree's root and its furthest leaf. You are given a pointer, root, pointing to the root of a binary search tree. Complete the getHeight function provided in your editor so that it returns the height of the binary search tree.\n",
    "\n",
    "Sample Input:\n",
    "\n",
    "7\n",
    "\n",
    "3\n",
    "\n",
    "5\n",
    "\n",
    "2\n",
    "\n",
    "1\n",
    "\n",
    "4\n",
    "\n",
    "6\n",
    "\n",
    "7"
   ]
  },
  {
   "cell_type": "code",
   "execution_count": 2,
   "metadata": {},
   "outputs": [
    {
     "name": "stdout",
     "output_type": "stream",
     "text": [
      "7\n",
      "3\n",
      "5\n",
      "2\n",
      "1\n",
      "4\n",
      "6\n",
      "7\n",
      "Height is:  3\n"
     ]
    }
   ],
   "source": [
    "class Node:\n",
    "    def __init__(self,data):\n",
    "        self.right=self.left=None\n",
    "        self.data = data\n",
    "class Solution:\n",
    "    def insert(self,root,data):\n",
    "        if root==None:\n",
    "            return Node(data)\n",
    "        else:\n",
    "            if data<=root.data:\n",
    "                cur=self.insert(root.left,data)\n",
    "                root.left=cur\n",
    "            else:\n",
    "                cur=self.insert(root.right,data)\n",
    "                root.right=cur\n",
    "        return root\n",
    "\n",
    "    def getHeight(self,root):\n",
    "        if root is None or (root.left is None and root.right is None):\n",
    "            return 0\n",
    "        else:\n",
    "            return max(self.getHeight(root.left),self.getHeight(root.right))+1\n",
    "\n",
    "T=int(input())\n",
    "myTree=Solution()\n",
    "root=None\n",
    "for i in range(T):\n",
    "    data=int(input())\n",
    "    root=myTree.insert(root,data)\n",
    "height=myTree.getHeight(root)\n",
    "print(\"Height is: \",height) "
   ]
  },
  {
   "cell_type": "markdown",
   "metadata": {},
   "source": [
    "# Day 23\n",
    "Task:\n",
    "\n",
    "A level-order traversal, also known as a breadth-first search, visits each level of a tree's nodes from left to right, top to bottom. You are given a pointer, root, pointing to the root of a binary search tree. Complete the levelOrder function provided in your editor so that it prints the level-order traversal of the binary search tree.\n",
    "\n",
    "Hint: You'll find a queue helpful in completing this challenge.\n",
    "\n",
    "Sample Input:\n",
    "\n",
    "6\n",
    "\n",
    "3\n",
    "\n",
    "5\n",
    "\n",
    "4\n",
    "\n",
    "7\n",
    "\n",
    "2\n",
    "\n",
    "1"
   ]
  },
  {
   "cell_type": "code",
   "execution_count": 3,
   "metadata": {},
   "outputs": [
    {
     "name": "stdout",
     "output_type": "stream",
     "text": [
      "6\n",
      "3\n",
      "5\n",
      "4\n",
      "1\n",
      "7\n",
      "2\n",
      "3 1 5 2 4 7\n"
     ]
    }
   ],
   "source": [
    "class Node:\n",
    "    def __init__(self,data):\n",
    "        self.right=self.left=None\n",
    "        self.data = data\n",
    "class Solution:\n",
    "    def insert(self,root,data):\n",
    "        if root==None:\n",
    "            return Node(data)\n",
    "        else:\n",
    "            if data<=root.data:\n",
    "                cur=self.insert(root.left,data)\n",
    "                root.left=cur\n",
    "            else:\n",
    "                cur=self.insert(root.right,data)\n",
    "                root.right=cur\n",
    "        return root\n",
    "\n",
    "    def levelOrder(self,root):\n",
    "        output = \"\"\n",
    "        queue = [root]\n",
    "        while queue:\n",
    "            current = queue.pop(0)\n",
    "            output += str(current.data) + \" \"\n",
    "            if current.left:\n",
    "                queue.append(current.left)\n",
    "            if current.right:\n",
    "                queue.append(current.right)\n",
    "        print(output[:-1])\n",
    "\n",
    "T=int(input())\n",
    "myTree=Solution()\n",
    "root=None\n",
    "for i in range(T):\n",
    "    data=int(input())\n",
    "    root=myTree.insert(root,data)\n",
    "myTree.levelOrder(root)"
   ]
  },
  {
   "cell_type": "markdown",
   "metadata": {},
   "source": [
    "# Day 24\n",
    "Task:\n",
    "\n",
    "A Node class is provided for you in the editor. A Node object has an integer data field, data, and a Node instance pointer, next, pointing to another node (i.e.: the next node in a list).\n",
    "\n",
    "A removeDuplicates function is declared in your editor, which takes a pointer to the head node of a linked list as a parameter. Complete removeDuplicates so that it deletes any duplicate nodes from the list and returns the head of the updated list.\n",
    "\n",
    "Note: The head pointer may be null, indicating that the list is empty. Be sure to reset your next pointer when performing deletions to avoid breaking the list.\n",
    "\n",
    "Sample Input:\n",
    "\n",
    "6\n",
    "\n",
    "1\n",
    "\n",
    "2\n",
    "\n",
    "2\n",
    "\n",
    "3\n",
    "\n",
    "3\n",
    "\n",
    "4"
   ]
  },
  {
   "cell_type": "code",
   "execution_count": 5,
   "metadata": {},
   "outputs": [
    {
     "name": "stdout",
     "output_type": "stream",
     "text": [
      "6\n",
      "1\n",
      "2\n",
      "2\n",
      "3\n",
      "3\n",
      "4\n",
      "1 2 3 4 "
     ]
    }
   ],
   "source": [
    "class Node:\n",
    "    def __init__(self,data):\n",
    "        self.data = data\n",
    "        self.next = None \n",
    "class Solution: \n",
    "    def insert(self,head,data):\n",
    "            p = Node(data)           \n",
    "            if head==None:\n",
    "                head=p\n",
    "            elif head.next==None:\n",
    "                head.next=p\n",
    "            else:\n",
    "                start=head\n",
    "                while(start.next!=None):\n",
    "                    start=start.next\n",
    "                start.next=p\n",
    "            return head  \n",
    "    def display(self,head):\n",
    "        current = head\n",
    "        while current:\n",
    "            print(current.data,end=' ')\n",
    "            current = current.next\n",
    "\n",
    "    def removeDuplicates(self,head):\n",
    "        current = head\n",
    "        while (current.next):\n",
    "            if (current.data == current.next.data):\n",
    "                current.next = current.next.next\n",
    "            else:\n",
    "                current = current.next\n",
    "        return head\n",
    "\n",
    "mylist= Solution()\n",
    "T=int(input())\n",
    "head=None\n",
    "for i in range(T):\n",
    "    data=int(input())\n",
    "    head=mylist.insert(head,data)    \n",
    "head=mylist.removeDuplicates(head)\n",
    "mylist.display(head);"
   ]
  },
  {
   "cell_type": "markdown",
   "metadata": {},
   "source": [
    "# Day 25\n",
    "Task:\n",
    "\n",
    "A prime is a natural number greater than 1 that has no positive divisors other than 1 and itself. Given a number, n, determine and print whether it is Prime or Not prime.\n",
    "\n",
    "Note: If possible, try to come up with a O(sqrt(n)) primality algorithm, or see what sort of optimizations you come up with for an O(n) algorithm. Be sure to check out the Editorial after submitting your code.\n",
    "\n",
    "Sample Input\n",
    "\n",
    "3\n",
    "\n",
    "12\n",
    "\n",
    "5\n",
    "\n",
    "7"
   ]
  },
  {
   "cell_type": "code",
   "execution_count": 6,
   "metadata": {},
   "outputs": [
    {
     "name": "stdout",
     "output_type": "stream",
     "text": [
      "3\n",
      "12\n",
      "Not prime\n",
      "5\n",
      "Prime\n",
      "7\n",
      "Prime\n"
     ]
    }
   ],
   "source": [
    "import math\n",
    "\n",
    "def check_prime(num):\n",
    "    if num is 1:\n",
    "        return \"Not prime\"\n",
    "    sq = int(math.sqrt(num))\n",
    "    for x in range(2, sq+1):\n",
    "        if num % x is 0:\n",
    "            return \"Not prime\"\n",
    "    return \"Prime\"\n",
    "\n",
    "\n",
    "t = int(input())\n",
    "for i in range(t):\n",
    "    number = int(input())\n",
    "    print(check_prime(number))"
   ]
  },
  {
   "cell_type": "markdown",
   "metadata": {},
   "source": [
    "# Day 26\n",
    "Task:\n",
    "\n",
    "Your local library needs your help! Given the expected and actual return dates for a library book, create a program that calculates the fine (if any). The fee structure is as follows:\n",
    "\n",
    "If the book is returned on or before the expected return date, no fine will be charged (i.e. fine ==0) .\n",
    "\n",
    "If the book is returned after the expected return day but still within the same calendar month and year as the expected return date, fine = 15Hackos*(the number of days late).\n",
    "\n",
    "If the book is returned after the expected return month but still within the same calendar year as the expected return date, the fine = 500Hackos*(the number of months late).\n",
    "\n",
    "If the book is returned after the calendar year in which it was expected, there is a fixed fine of 10000 Hackos."
   ]
  },
  {
   "cell_type": "code",
   "execution_count": 1,
   "metadata": {},
   "outputs": [
    {
     "name": "stdout",
     "output_type": "stream",
     "text": [
      "23 10 2020\n",
      "30 11 2020\n",
      "0\n"
     ]
    }
   ],
   "source": [
    "da, ma, ya = input().split(' ')\n",
    "da = int(da)\n",
    "ma = int(ma)\n",
    "ya = int(ya)\n",
    "de, me, ye = input().split(' ')\n",
    "de = int(de)\n",
    "me = int(me)\n",
    "ye = int(ye)\n",
    "fine = 0\n",
    "if(ye==ya):\n",
    "    if(me < ma):\n",
    "        fine = (ma - me) * 500\n",
    "    elif((me == ma) and (de < da)):\n",
    "        fine = (da - de) * 15\n",
    "elif(ye < ya):\n",
    "    fine = 10000\n",
    "\n",
    "print( fine )"
   ]
  },
  {
   "cell_type": "markdown",
   "metadata": {},
   "source": [
    "# Day 27\n",
    "Task:\n",
    "\n",
    "This problem is about unit testing.\n",
    "\n",
    "Your company needs a function that meets the following requirements:\n",
    "\n",
    "For a given array of n integers, the function returns the index of the element with the minimum value in the array. If there is more than one element with the minimum value, it returns the smallest one.\n",
    "\n",
    "If an empty array is passed to the function, it raises an exception. A colleague has written this method. The implementation in Python is listed below. Implementations in other languages can be found in the code template."
   ]
  },
  {
   "cell_type": "code",
   "execution_count": 5,
   "metadata": {},
   "outputs": [
    {
     "name": "stdout",
     "output_type": "stream",
     "text": [
      "OK\n"
     ]
    }
   ],
   "source": [
    "def minimum_index(seq):\n",
    "    if len(seq) == 0:\n",
    "        raise ValueError(\"Cannot get the minimum value index from an empty sequence\")\n",
    "    min_idx = 0\n",
    "    for i in range(1, len(seq)):\n",
    "        if seq[i] < seq[min_idx]:\n",
    "            min_idx = i\n",
    "    return min_idx\n",
    "\n",
    "def minimum_index(seq):\n",
    "    if len(seq) == 0:\n",
    "        raise ValueError(\"Cannot get the minimum value index from an empty sequence\")\n",
    "    min_idx = 0\n",
    "    for i in range(1, len(seq)):\n",
    "        if seq[i] < seq[min_idx]:\n",
    "            min_idx = i\n",
    "    return min_idx\n",
    "\n",
    "class TestDataEmptyArray(object):\n",
    "    \n",
    "    @staticmethod\n",
    "    def get_array():\n",
    "        return []\n",
    "\n",
    "class TestDataUniqueValues(object):\n",
    "\n",
    "    @staticmethod\n",
    "    def get_array():\n",
    "        return [7, 4, 3, 8, 14]\n",
    "\n",
    "    @staticmethod\n",
    "    def get_expected_result():\n",
    "        return 2\n",
    "\n",
    "class TestDataExactlyTwoDifferentMinimums(object):\n",
    "\n",
    "    @staticmethod\n",
    "    def get_array():\n",
    "        return [7, 4, 3, 8, 3, 14]\n",
    "\n",
    "    @staticmethod\n",
    "    def get_expected_result():\n",
    "        return 2\n",
    "    \n",
    "def TestWithEmptyArray():\n",
    "    try:\n",
    "        seq = TestDataEmptyArray.get_array()\n",
    "        result = minimum_index(seq)\n",
    "    except ValueError as e:\n",
    "        pass\n",
    "    else:\n",
    "        assert False\n",
    "\n",
    "\n",
    "def TestWithUniqueValues():\n",
    "    seq = TestDataUniqueValues.get_array()\n",
    "    assert len(seq) >= 2\n",
    "\n",
    "    assert len(list(set(seq))) == len(seq)\n",
    "\n",
    "    expected_result = TestDataUniqueValues.get_expected_result()\n",
    "    result = minimum_index(seq)\n",
    "    assert result == expected_result\n",
    "\n",
    "\n",
    "def TestiWithExactyTwoDifferentMinimums():\n",
    "    seq = TestDataExactlyTwoDifferentMinimums.get_array()\n",
    "    assert len(seq) >= 2\n",
    "    tmp = sorted(seq)\n",
    "    assert tmp[0] == tmp[1] and (len(tmp) == 2 or tmp[1] < tmp[2])\n",
    "\n",
    "    expected_result = TestDataExactlyTwoDifferentMinimums.get_expected_result()\n",
    "    result = minimum_index(seq)\n",
    "    assert result == expected_result\n",
    "\n",
    "TestWithEmptyArray()\n",
    "TestWithUniqueValues()\n",
    "TestiWithExactyTwoDifferentMinimums()\n",
    "print(\"OK\")"
   ]
  },
  {
   "cell_type": "markdown",
   "metadata": {},
   "source": [
    "# Day 28\n",
    "Task:\n",
    "\n",
    "Consider a database table, Emails, which has the attributes First Name and Email ID. Given  rows of data simulating the Emails table, print an alphabetically-ordered list of people whose email address ends in \"@gmail.com\".\n",
    "\n",
    "Sample Input\n",
    "\n",
    "6\n",
    "\n",
    "riya riya@gmail.com\n",
    "\n",
    "julia julia@julia.me\n",
    "\n",
    "julia sjulia@gmail.com\n",
    "\n",
    "julia julia@gmail.com\n",
    "\n",
    "samantha samantha@gmail.com\n",
    "\n",
    "tanya tanya@gmail.com"
   ]
  },
  {
   "cell_type": "code",
   "execution_count": 5,
   "metadata": {},
   "outputs": [
    {
     "name": "stdout",
     "output_type": "stream",
     "text": [
      "6\n",
      "riya riya@gmail.com\n",
      "julia julia@julia.me\n",
      "julia sjulia@gmail.com\n",
      "julia julia@gmail.com\n",
      "samantha samantha@gmail.com\n",
      "tanya tanya@gmail.com\n",
      "julia\n",
      "julia\n",
      "riya\n",
      "samantha\n",
      "tanya\n"
     ]
    }
   ],
   "source": [
    "import math\n",
    "import os\n",
    "import random\n",
    "import re\n",
    "import sys\n",
    "\n",
    "\n",
    "\n",
    "if __name__ == '__main__':\n",
    "    N = int(input().strip())\n",
    "    match_names = []\n",
    "    \n",
    "    for N_itr in range(N):\n",
    "        first_multiple_input = input().rstrip().split()\n",
    "\n",
    "        firstName = str(first_multiple_input[0])\n",
    "\n",
    "        emailID = str(first_multiple_input[1])\n",
    "        \n",
    "        match = match = re.search(r'[\\w\\.-]+@gmail.com', emailID)\n",
    "        \n",
    "        if match:\n",
    "            match_names.append(firstName)\n",
    "            \n",
    "    match_names.sort()\n",
    "    for name in match_names:\n",
    "        print(name)"
   ]
  },
  {
   "cell_type": "markdown",
   "metadata": {},
   "source": [
    "# Day 29\n",
    "Task:\n",
    "\n",
    "Given set S = {1,2,3,....,N}. Find two integers, A and B (where A<B), from set S such that the value of A&B is the maximum possible and also less than a given integer, K. In this case, & represents the bitwise AND operator.\n",
    "\n",
    "Sample Input:\n",
    "\n",
    "STDIN   Function\n",
    "\n",
    "-----   --------\n",
    "\n",
    "3       T = 3\n",
    "\n",
    "5 2     N = 5, K = 2\n",
    "\n",
    "8 5     N = 8, K = 5\n",
    "\n",
    "2 2     N = 8, K = 5"
   ]
  },
  {
   "cell_type": "code",
   "execution_count": null,
   "metadata": {},
   "outputs": [
    {
     "name": "stdout",
     "output_type": "stream",
     "text": [
      "3\n",
      "5 2\n",
      "8 5\n",
      "4\n",
      "2 2\n"
     ]
    }
   ],
   "source": [
    "def bitwiseAnd(N, K):\n",
    "    for a0 in range(t):\n",
    "        n, k = input().strip().split(' ')\n",
    "        n, k = [int(n), int(k)]\n",
    "        return (k-1 if ((k-1) | k) <= n else k-2)\n",
    "\n",
    "if __name__ == '__main__':\n",
    "\n",
    "    t = int(input().strip())\n",
    "\n",
    "    for t_itr in range(t):\n",
    "        first_multiple_input = input().rstrip().split()\n",
    "\n",
    "        count = int(first_multiple_input[0])\n",
    "\n",
    "        lim = int(first_multiple_input[1])\n",
    "\n",
    "        res = bitwiseAnd(count, lim)\n",
    "        \n",
    "        print(str(res))"
   ]
  },
  {
   "cell_type": "code",
   "execution_count": null,
   "metadata": {},
   "outputs": [],
   "source": []
  }
 ],
 "metadata": {
  "kernelspec": {
   "display_name": "Python 3",
   "language": "python",
   "name": "python3"
  },
  "language_info": {
   "codemirror_mode": {
    "name": "ipython",
    "version": 3
   },
   "file_extension": ".py",
   "mimetype": "text/x-python",
   "name": "python",
   "nbconvert_exporter": "python",
   "pygments_lexer": "ipython3",
   "version": "3.7.6"
  }
 },
 "nbformat": 4,
 "nbformat_minor": 4
}
