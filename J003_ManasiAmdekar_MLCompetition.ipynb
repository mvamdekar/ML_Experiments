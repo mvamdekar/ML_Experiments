{
 "cells": [
  {
   "cell_type": "code",
   "execution_count": 1,
   "metadata": {},
   "outputs": [],
   "source": [
    "# Importing the required libraries\n",
    "import pandas as pd\n",
    "import numpy as np"
   ]
  },
  {
   "cell_type": "code",
   "execution_count": 2,
   "metadata": {},
   "outputs": [],
   "source": [
    "# Importing the dataset\n",
    "df = pd.read_csv('D:\\\\Sem 5\\\\ML\\\\train.csv')"
   ]
  },
  {
   "cell_type": "code",
   "execution_count": 3,
   "metadata": {},
   "outputs": [],
   "source": [
    "# Dropping certain less important features\n",
    "df = df.drop(columns = ['Year_of_Release', 'Developer', 'Publisher', 'Platform'], axis=1)"
   ]
  },
  {
   "cell_type": "code",
   "execution_count": 4,
   "metadata": {},
   "outputs": [
    {
     "name": "stdout",
     "output_type": "stream",
     "text": [
      "<class 'pandas.core.frame.DataFrame'>\n",
      "RangeIndex: 13375 entries, 0 to 13374\n",
      "Data columns (total 14 columns):\n",
      " #   Column        Non-Null Count  Dtype  \n",
      "---  ------        --------------  -----  \n",
      " 0   id            13375 non-null  int64  \n",
      " 1   index         13375 non-null  int64  \n",
      " 2   Name          13373 non-null  object \n",
      " 3   Genre         13373 non-null  object \n",
      " 4   NA_Sales      13375 non-null  float64\n",
      " 5   EU_Sales      13375 non-null  float64\n",
      " 6   JP_Sales      13375 non-null  float64\n",
      " 7   Other_Sales   13375 non-null  float64\n",
      " 8   Global_Sales  13375 non-null  float64\n",
      " 9   Critic_Score  6505 non-null   float64\n",
      " 10  Critic_Count  6505 non-null   float64\n",
      " 11  User_Score    8007 non-null   object \n",
      " 12  User_Count    6039 non-null   float64\n",
      " 13  Rating        7944 non-null   object \n",
      "dtypes: float64(8), int64(2), object(4)\n",
      "memory usage: 1.4+ MB\n"
     ]
    }
   ],
   "source": [
    "# To view the columns with missing values\n",
    "df.info()"
   ]
  },
  {
   "cell_type": "code",
   "execution_count": 5,
   "metadata": {},
   "outputs": [
    {
     "data": {
      "text/html": [
       "<div>\n",
       "<style scoped>\n",
       "    .dataframe tbody tr th:only-of-type {\n",
       "        vertical-align: middle;\n",
       "    }\n",
       "\n",
       "    .dataframe tbody tr th {\n",
       "        vertical-align: top;\n",
       "    }\n",
       "\n",
       "    .dataframe thead th {\n",
       "        text-align: right;\n",
       "    }\n",
       "</style>\n",
       "<table border=\"1\" class=\"dataframe\">\n",
       "  <thead>\n",
       "    <tr style=\"text-align: right;\">\n",
       "      <th></th>\n",
       "      <th>id</th>\n",
       "      <th>index</th>\n",
       "      <th>Name</th>\n",
       "      <th>Genre</th>\n",
       "      <th>NA_Sales</th>\n",
       "      <th>EU_Sales</th>\n",
       "      <th>JP_Sales</th>\n",
       "      <th>Other_Sales</th>\n",
       "      <th>Global_Sales</th>\n",
       "      <th>Critic_Score</th>\n",
       "      <th>Critic_Count</th>\n",
       "      <th>User_Score</th>\n",
       "      <th>User_Count</th>\n",
       "      <th>Rating</th>\n",
       "    </tr>\n",
       "  </thead>\n",
       "  <tbody>\n",
       "    <tr>\n",
       "      <th>0</th>\n",
       "      <td>10717</td>\n",
       "      <td>5596</td>\n",
       "      <td>Darkwatch</td>\n",
       "      <td>Shooter</td>\n",
       "      <td>0.16</td>\n",
       "      <td>0.12</td>\n",
       "      <td>0.0</td>\n",
       "      <td>0.04</td>\n",
       "      <td>0.32</td>\n",
       "      <td>74.0</td>\n",
       "      <td>37.0</td>\n",
       "      <td>8.4</td>\n",
       "      <td>42.0</td>\n",
       "      <td>M</td>\n",
       "    </tr>\n",
       "  </tbody>\n",
       "</table>\n",
       "</div>"
      ],
      "text/plain": [
       "      id  index       Name    Genre  NA_Sales  EU_Sales  JP_Sales  \\\n",
       "0  10717   5596  Darkwatch  Shooter      0.16      0.12       0.0   \n",
       "\n",
       "   Other_Sales  Global_Sales  Critic_Score  Critic_Count User_Score  \\\n",
       "0         0.04          0.32          74.0          37.0        8.4   \n",
       "\n",
       "   User_Count Rating  \n",
       "0        42.0      M  "
      ]
     },
     "execution_count": 5,
     "metadata": {},
     "output_type": "execute_result"
    }
   ],
   "source": [
    "df.head(1)"
   ]
  },
  {
   "cell_type": "code",
   "execution_count": 6,
   "metadata": {},
   "outputs": [],
   "source": [
    "L=list(df[df[\"Name\"].isna()].index.values)\n",
    "df = df.drop(L, axis=0)"
   ]
  },
  {
   "cell_type": "code",
   "execution_count": 7,
   "metadata": {},
   "outputs": [],
   "source": [
    "L1=list(df[df[\"Genre\"].isna()].index.values)\n",
    "df = df.drop(L1, axis=0)"
   ]
  },
  {
   "cell_type": "code",
   "execution_count": 8,
   "metadata": {},
   "outputs": [],
   "source": [
    "df.drop(df.loc[df[\"User_Score\"]==\"tbd\"].index, inplace=True)\n",
    "df[\"User_Score\"]= df[\"User_Score\"].astype(np.float64)"
   ]
  },
  {
   "cell_type": "code",
   "execution_count": 9,
   "metadata": {},
   "outputs": [],
   "source": [
    "df[\"Critic_Score\"] = df['Critic_Score'].fillna(df['Critic_Score'].mean())\n",
    "df[\"Critic_Count\"] = df['Critic_Count'].fillna(df['Critic_Count'].mean())\n",
    "df[\"User_Count\"] = df['User_Count'].fillna(df['User_Count'].mean())\n",
    "df[\"User_Score\"] = df['User_Score'].fillna(df['User_Score'].mean())\n",
    "\n",
    "df[\"Rating\"] = df['Rating'].fillna(df['Rating'].mode()[0])"
   ]
  },
  {
   "cell_type": "code",
   "execution_count": 10,
   "metadata": {},
   "outputs": [],
   "source": [
    "from sklearn.preprocessing import OrdinalEncoder, OneHotEncoder, StandardScaler\n",
    "ordinal_encoder = OrdinalEncoder()\n",
    "df[\"Rating\"] = ordinal_encoder.fit_transform(df[[\"Rating\"]])"
   ]
  },
  {
   "cell_type": "code",
   "execution_count": 11,
   "metadata": {},
   "outputs": [
    {
     "name": "stdout",
     "output_type": "stream",
     "text": [
      "(7983, 12) (3422, 12) (7983,) (3422,)\n"
     ]
    }
   ],
   "source": [
    "X = df.drop(['index','Global_Sales'], axis = 1)\n",
    "Y = df['Global_Sales']\n",
    "\n",
    "from sklearn.model_selection import train_test_split\n",
    "X_train, X_test, y_train, y_test = train_test_split(X, Y, test_size = 0.3, random_state = 0)\n",
    "print(X_train.shape, X_test.shape, y_train.shape, y_test.shape)"
   ]
  },
  {
   "cell_type": "code",
   "execution_count": 12,
   "metadata": {},
   "outputs": [],
   "source": [
    "from sklearn.pipeline import Pipeline\n",
    "from sklearn.impute import SimpleImputer\n",
    "from sklearn.compose import ColumnTransformer\n",
    "\n",
    "num_transform = Pipeline([('imputer', SimpleImputer(strategy=\"median\")), ('std_scaler', StandardScaler())])\n",
    "num_cols = [cname for cname in X_train.columns if X_train[cname].dtype in ['float64']]\n",
    "\n",
    "cat_transform = Pipeline(steps=[('imputer', SimpleImputer(strategy='most_frequent')),('onehot', OneHotEncoder(handle_unknown='ignore'))])\n",
    "cat_cols = [cname for cname in X_train.columns if X_train[cname].dtype in ['object'] and X_train[cname].nunique() <= 30]\n",
    "\n",
    "preprocessor = ColumnTransformer(\n",
    "    transformers=[\n",
    "        ('num', num_transform, num_cols),\n",
    "        ('cat', cat_transform, cat_cols)\n",
    "    ])\n",
    "X_train_prep = preprocessor.fit_transform(X_train)"
   ]
  },
  {
   "cell_type": "code",
   "execution_count": 13,
   "metadata": {},
   "outputs": [
    {
     "data": {
      "text/plain": [
       "LinearRegression(copy_X=True, fit_intercept=True, n_jobs=None, normalize=False)"
      ]
     },
     "execution_count": 13,
     "metadata": {},
     "output_type": "execute_result"
    }
   ],
   "source": [
    "from sklearn.linear_model import LinearRegression\n",
    "from sklearn.metrics import mean_squared_error\n",
    "model = LinearRegression()\n",
    "model.fit(X_train_prep, y_train)"
   ]
  },
  {
   "cell_type": "code",
   "execution_count": 14,
   "metadata": {},
   "outputs": [],
   "source": [
    "X_test_prep = preprocessor.transform(X_test)\n",
    "# Predicting test set results\n",
    "y_pred = model.predict(X_test_prep)"
   ]
  },
  {
   "cell_type": "code",
   "execution_count": 15,
   "metadata": {},
   "outputs": [
    {
     "name": "stdout",
     "output_type": "stream",
     "text": [
      "Mean Absolute Error: 0.002787397636022515\n",
      "r2 score of the model : 1.000\n",
      "Root Mean Squared Error of the model : 0.005\n"
     ]
    }
   ],
   "source": [
    "from sklearn.metrics import r2_score, mean_absolute_error\n",
    "lin_mae = mean_absolute_error(y_test, y_pred)\n",
    "print(\"Mean Absolute Error:\",lin_mae)\n",
    "import math\n",
    "r2_score = r2_score(y_test, y_pred)\n",
    "rmse = math.sqrt(mean_squared_error(y_test, y_pred))\n",
    "print(f\"r2 score of the model : {r2_score:.3f}\")\n",
    "print(f\"Root Mean Squared Error of the model : {rmse:.3f}\")"
   ]
  },
  {
   "cell_type": "markdown",
   "metadata": {},
   "source": [
    "# Predicting for the test set"
   ]
  },
  {
   "cell_type": "code",
   "execution_count": 16,
   "metadata": {},
   "outputs": [],
   "source": [
    "X_test_set = pd.read_csv('D:\\\\Sem 5\\\\ML\\\\test.csv')"
   ]
  },
  {
   "cell_type": "code",
   "execution_count": 17,
   "metadata": {},
   "outputs": [],
   "source": [
    "X_test_set = X_test_set.drop(columns = ['Year_of_Release', 'Developer', 'Publisher', 'Platform'], axis=1)"
   ]
  },
  {
   "cell_type": "code",
   "execution_count": 19,
   "metadata": {},
   "outputs": [],
   "source": [
    "L2=list(X_test_set[X_test_set[\"Name\"].isna()].index.values)\n",
    "X_test_set = X_test_set.drop(L2, axis=0)\n",
    "L3=list(X_test_set[X_test_set[\"Genre\"].isna()].index.values)\n",
    "X_test_set = X_test_set.drop(L3, axis=0)\n",
    "X_test_set[\"User_Score\"].replace({\"tbd\":0}, inplace=True)\n",
    "X_test_set[\"User_Score\"]= X_test_set[\"User_Score\"].astype(np.float64)"
   ]
  },
  {
   "cell_type": "code",
   "execution_count": 20,
   "metadata": {},
   "outputs": [],
   "source": [
    "X_test_set[\"Critic_Score\"] = X_test_set['Critic_Score'].fillna(X_test_set['Critic_Score'].mean())\n",
    "X_test_set[\"Critic_Count\"] = X_test_set['Critic_Count'].fillna(X_test_set['Critic_Count'].mean())\n",
    "X_test_set[\"User_Count\"] = X_test_set['User_Count'].fillna(X_test_set['User_Count'].mean())\n",
    "X_test_set[\"User_Score\"] = X_test_set['User_Score'].fillna(X_test_set['User_Score'].mean())\n",
    "\n",
    "X_test_set[\"Rating\"] = X_test_set['Rating'].fillna(X_test_set['Rating'].mode()[0])"
   ]
  },
  {
   "cell_type": "code",
   "execution_count": 21,
   "metadata": {},
   "outputs": [],
   "source": [
    "from sklearn.preprocessing import OrdinalEncoder, OneHotEncoder, StandardScaler\n",
    "ordinal_encoder = OrdinalEncoder()\n",
    "X_test_set[\"Rating\"] = ordinal_encoder.fit_transform(X_test_set[[\"Rating\"]])"
   ]
  },
  {
   "cell_type": "code",
   "execution_count": 22,
   "metadata": {},
   "outputs": [],
   "source": [
    "# Predicting test set results for separate test file\n",
    "X_test_prep1 = preprocessor.transform(X_test_set)\n",
    "y_pred_test = model.predict(X_test_prep1)"
   ]
  },
  {
   "cell_type": "code",
   "execution_count": 23,
   "metadata": {},
   "outputs": [
    {
     "data": {
      "text/plain": [
       "(3344,)"
      ]
     },
     "execution_count": 23,
     "metadata": {},
     "output_type": "execute_result"
    }
   ],
   "source": [
    "y_pred_test.shape"
   ]
  },
  {
   "cell_type": "code",
   "execution_count": 28,
   "metadata": {},
   "outputs": [],
   "source": [
    "predictions = pd.DataFrame(y_pred_test,columns = ['Global_Sales'])\n",
    "predictions['id'] = X_test_set['id']"
   ]
  },
  {
   "cell_type": "code",
   "execution_count": 29,
   "metadata": {},
   "outputs": [],
   "source": [
    "predictions.to_csv('Predictions.csv')"
   ]
  },
  {
   "cell_type": "code",
   "execution_count": null,
   "metadata": {},
   "outputs": [],
   "source": []
  }
 ],
 "metadata": {
  "kernelspec": {
   "display_name": "Python 3",
   "language": "python",
   "name": "python3"
  },
  "language_info": {
   "codemirror_mode": {
    "name": "ipython",
    "version": 3
   },
   "file_extension": ".py",
   "mimetype": "text/x-python",
   "name": "python",
   "nbconvert_exporter": "python",
   "pygments_lexer": "ipython3",
   "version": "3.7.6"
  }
 },
 "nbformat": 4,
 "nbformat_minor": 4
}
